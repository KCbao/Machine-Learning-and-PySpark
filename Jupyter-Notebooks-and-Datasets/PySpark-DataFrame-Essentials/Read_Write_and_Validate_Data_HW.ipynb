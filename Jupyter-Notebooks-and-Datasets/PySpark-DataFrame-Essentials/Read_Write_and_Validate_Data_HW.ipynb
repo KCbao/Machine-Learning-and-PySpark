{
 "cells": [
  {
   "cell_type": "markdown",
   "metadata": {},
   "source": [
    "# Reading, Writing and Validating Data in PySpark HW\n",
    "\n",
    "Welcome to your first coding homework assignment in PySpark! I hope you enjoyed the lecture on Reading, Writing and Validating dataframes. Now it's time to put what you've learned into action! \n",
    "\n",
    "I've included several instructions below to help guide you through this homework assignment which I hope will get you feeling even comfortable reading, writing and validating dataframes. If you get stuck at any point, feel free to jump to the next lecture where I will guide you through my solutions to the HW assignment. \n",
    "\n",
    "Have fun!\n",
    "\n",
    "Let's dig right in!\n",
    "\n",
    "\n",
    "## But first things first.....\n",
    "We need to always begin every Spark session by creating a Spark instance. Let's go ahead and use the method we learned in the lecture in the cell below. Also see if you can remember how to open the Spark UI (using a link that automatically guides you there). "
   ]
  },
  {
   "cell_type": "code",
   "execution_count": 1,
   "metadata": {},
   "outputs": [
    {
     "name": "stdout",
     "output_type": "stream",
     "text": [
      "You are working with 1 core(s)\n"
     ]
    },
    {
     "data": {
      "text/html": [
       "\n",
       "            <div>\n",
       "                <p><b>SparkSession - in-memory</b></p>\n",
       "                \n",
       "        <div>\n",
       "            <p><b>SparkContext</b></p>\n",
       "\n",
       "            <p><a href=\"http://casiebaodembp:4042\">Spark UI</a></p>\n",
       "\n",
       "            <dl>\n",
       "              <dt>Version</dt>\n",
       "                <dd><code>v3.1.1</code></dd>\n",
       "              <dt>Master</dt>\n",
       "                <dd><code>local[*]</code></dd>\n",
       "              <dt>AppName</dt>\n",
       "                <dd><code>ReadWriteVal</code></dd>\n",
       "            </dl>\n",
       "        </div>\n",
       "        \n",
       "            </div>\n",
       "        "
      ],
      "text/plain": [
       "<pyspark.sql.session.SparkSession at 0x7fce36152150>"
      ]
     },
     "execution_count": 1,
     "metadata": {},
     "output_type": "execute_result"
    }
   ],
   "source": [
    "import pyspark # only run after findspark.init()\n",
    "from pyspark.sql import SparkSession\n",
    "# May take awhile locally\n",
    "spark = SparkSession.builder.appName(\"ReadWriteVal\").getOrCreate()\n",
    "\n",
    "cores = spark._jsc.sc().getExecutorMemoryStatus().keySet().size()\n",
    "print(\"You are working with\", cores, \"core(s)\")\n",
    "spark"
   ]
  },
  {
   "cell_type": "markdown",
   "metadata": {},
   "source": [
    "## Next let's start by reading a basic csv dataset\n",
    "\n",
    "Download the pga_tour_historical dataset that is attached to this lecture and save it whatever folder you want, then read it in. \n",
    "\n",
    "**Data Source:** https://www.kaggle.com/bradklassen/pga-tour-20102018-data\n",
    "\n",
    "Rememer to try letting Spark infer the header and infer the Schema types!"
   ]
  },
  {
   "cell_type": "code",
   "execution_count": 3,
   "metadata": {},
   "outputs": [],
   "source": [
    "path =\"Datasets/\"\n",
    "\n",
    "# Some csv data\n",
    "pga_tour = spark.read.csv(path+'pga_tour_historical.csv',inferSchema=True,header=True)"
   ]
  },
  {
   "cell_type": "markdown",
   "metadata": {},
   "source": [
    "## 1. View first 5 lines of dataframe\n",
    "First generate a view of the first 5 lines of the dataframe to get an idea of what is inside. We went over two ways of doing this... see if you can remember BOTH ways. "
   ]
  },
  {
   "cell_type": "code",
   "execution_count": 4,
   "metadata": {},
   "outputs": [
    {
     "name": "stdout",
     "output_type": "stream",
     "text": [
      "+---------------+------+----------------+--------------------+-----+\n",
      "|    Player Name|Season|       Statistic|            Variable|Value|\n",
      "+---------------+------+----------------+--------------------+-----+\n",
      "|Robert Garrigus|  2010|Driving Distance|Driving Distance ...|   71|\n",
      "|   Bubba Watson|  2010|Driving Distance|Driving Distance ...|   77|\n",
      "| Dustin Johnson|  2010|Driving Distance|Driving Distance ...|   83|\n",
      "|Brett Wetterich|  2010|Driving Distance|Driving Distance ...|   54|\n",
      "|    J.B. Holmes|  2010|Driving Distance|Driving Distance ...|  100|\n",
      "+---------------+------+----------------+--------------------+-----+\n",
      "only showing top 5 rows\n",
      "\n"
     ]
    }
   ],
   "source": [
    "pga_tour.show(5)"
   ]
  },
  {
   "cell_type": "markdown",
   "metadata": {},
   "source": [
    "## 2. Print the schema details\n",
    "\n",
    "Now print the details of the dataframes schema that Spark infered to ensure that it was infered correctly. Sometimes it is not infered correctly, so we need to watch out!"
   ]
  },
  {
   "cell_type": "code",
   "execution_count": 5,
   "metadata": {},
   "outputs": [
    {
     "name": "stdout",
     "output_type": "stream",
     "text": [
      "root\n",
      " |-- Player Name: string (nullable = true)\n",
      " |-- Season: integer (nullable = true)\n",
      " |-- Statistic: string (nullable = true)\n",
      " |-- Variable: string (nullable = true)\n",
      " |-- Value: string (nullable = true)\n",
      "\n",
      "None\n",
      "\n",
      "['Player Name', 'Season', 'Statistic', 'Variable', 'Value']\n",
      "\n",
      "DataFrame[summary: string, Player Name: string, Season: string, Statistic: string, Variable: string, Value: string]\n"
     ]
    }
   ],
   "source": [
    "print(pga_tour.printSchema())\n",
    "print(\"\")\n",
    "print(pga_tour.columns)\n",
    "print(\"\")\n",
    "print(pga_tour.describe()) # Not so fond of this one but to each their own"
   ]
  },
  {
   "cell_type": "markdown",
   "metadata": {},
   "source": [
    "## 3. Edit the schema during the read in\n",
    "\n",
    "We can see from the output above that Spark did not correctly infer that the \"value\" column was an integer value. Let's try specifying the schema this time to let spark know what the schema should be.\n",
    "\n",
    "Here is a link to see a list of PySpark data types in case you need it (also attached to the lecture): \n",
    "https://spark.apache.org/docs/latest/sql-ref-datatypes.html"
   ]
  },
  {
   "cell_type": "code",
   "execution_count": 6,
   "metadata": {},
   "outputs": [],
   "source": [
    "from pyspark.sql.types import StructField,StringType,IntegerType,StructType,DateType"
   ]
  },
  {
   "cell_type": "code",
   "execution_count": 24,
   "metadata": {},
   "outputs": [
    {
     "name": "stdout",
     "output_type": "stream",
     "text": [
      "+---------------+------+----------------+--------------------+-----+\n",
      "|    Player Name|Season|       Statistic|            Variable|Value|\n",
      "+---------------+------+----------------+--------------------+-----+\n",
      "|Robert Garrigus|  2010|Driving Distance|Driving Distance ...|   71|\n",
      "|   Bubba Watson|  2010|Driving Distance|Driving Distance ...|   77|\n",
      "| Dustin Johnson|  2010|Driving Distance|Driving Distance ...|   83|\n",
      "+---------------+------+----------------+--------------------+-----+\n",
      "only showing top 3 rows\n",
      "\n"
     ]
    }
   ],
   "source": [
    "data_schema = [StructField(\"Player Name\", StringType(), True),\n",
    "               StructField(\"Season\", StringType(), True),\n",
    "               StructField(\"Statistic\", StringType(), True),\n",
    "               StructField(\"Variable\", StringType(), True),\n",
    "               StructField(\"Value\", IntegerType(), True)]\n",
    "final_struc = StructType(fields=data_schema)\n",
    "pga_tour = spark.read.csv(path+'pga_tour_historical.csv', schema=final_struc, header=True)\n",
    "pga_tour.show(3)"
   ]
  },
  {
   "cell_type": "markdown",
   "metadata": {},
   "source": [
    "## 4. Generate summary statistics for only one variable\n",
    "\n",
    "See if you can generate summary statistics for only the \"Value\" column using the .describe function\n",
    "\n",
    "(count, mean, stddev, min, max) "
   ]
  },
  {
   "cell_type": "code",
   "execution_count": 25,
   "metadata": {},
   "outputs": [
    {
     "name": "stdout",
     "output_type": "stream",
     "text": [
      "root\n",
      " |-- Player Name: string (nullable = true)\n",
      " |-- Season: string (nullable = true)\n",
      " |-- Statistic: string (nullable = true)\n",
      " |-- Variable: string (nullable = true)\n",
      " |-- Value: integer (nullable = true)\n",
      "\n"
     ]
    }
   ],
   "source": [
    "pga_tour.printSchema()"
   ]
  },
  {
   "cell_type": "code",
   "execution_count": 26,
   "metadata": {},
   "outputs": [
    {
     "name": "stdout",
     "output_type": "stream",
     "text": [
      "+-------+------------------+\n",
      "|summary|             Value|\n",
      "+-------+------------------+\n",
      "|  count|           1657247|\n",
      "|    min|              -178|\n",
      "|   mean|12494.388998743096|\n",
      "| stddev| 157274.7567357075|\n",
      "|    max|           3564954|\n",
      "+-------+------------------+\n",
      "\n"
     ]
    }
   ],
   "source": [
    "pga_tour.select(\"Value\").summary(\"count\", \"min\", \"mean\", \"stddev\", \"max\").show()"
   ]
  },
  {
   "cell_type": "markdown",
   "metadata": {},
   "source": [
    "## 5. Generate summary statistics for TWO variables\n",
    "Now try to generate ONLY the count min and max for BOTH the \"Value\" and \"Season\" variable using the select. You can't use the .describe function for this one but see if you can remember which function you CAN use. "
   ]
  },
  {
   "cell_type": "code",
   "execution_count": 27,
   "metadata": {},
   "outputs": [
    {
     "name": "stdout",
     "output_type": "stream",
     "text": [
      "+-------+-------+------+\n",
      "|summary|  Value|Season|\n",
      "+-------+-------+------+\n",
      "|    min|   -178|  2010|\n",
      "|    max|3564954|  2018|\n",
      "+-------+-------+------+\n",
      "\n"
     ]
    }
   ],
   "source": [
    "pga_tour.select([\"Value\", \"Season\"]).summary(\"min\", \"max\").show()"
   ]
  },
  {
   "cell_type": "markdown",
   "metadata": {},
   "source": [
    "## 6. Write a parquet file\n",
    "\n",
    "Now try writing a parquet file (not partitioned) from the pga dataset. But first create a new dataframe containing ONLY the the \"Season\" and \"Value\" fields (using the \"select command you used in the question above) and write a parquet file partitioned by \"Season\". This is a bit of a challenge aimed at getting you ready for material that will be covered later on in the course. Don't feel bad if you can't figure it out.\n",
    "\n",
    "*Note that if any of your variable names contain spaces, spark will produce an error message with this call. That is why we are selecting ONLY the \"Season\" and \"Value\" fields. Ideally we should renamed those columns but we haven't gotten to that yet in this course but we will soon!*"
   ]
  },
  {
   "cell_type": "code",
   "execution_count": 30,
   "metadata": {},
   "outputs": [
    {
     "name": "stdout",
     "output_type": "stream",
     "text": [
      "+-----+------+\n",
      "|Value|Season|\n",
      "+-----+------+\n",
      "|   71|  2010|\n",
      "|   77|  2010|\n",
      "|   83|  2010|\n",
      "+-----+------+\n",
      "only showing top 3 rows\n",
      "\n"
     ]
    }
   ],
   "source": [
    "pga_tour_part = pga_tour.select([\"Value\", \"Season\"])\n",
    "pga_tour_part.show(3)"
   ]
  },
  {
   "cell_type": "markdown",
   "metadata": {},
   "source": [
    "## 7. Write a partioned parquet file\n",
    "\n",
    "You will need to use the same limited dataframe that you created in the previous question to accomplish this task as well. "
   ]
  },
  {
   "cell_type": "code",
   "execution_count": 42,
   "metadata": {},
   "outputs": [],
   "source": [
    "pga_tour_part.write.mode(\"overwrite\").partitionBy(\"Season\").parquet('Datasets/pga_tour_part_parquet/')"
   ]
  },
  {
   "cell_type": "markdown",
   "metadata": {},
   "source": [
    "## 8. Read in a partitioned parquet file\n",
    "\n",
    "Now try reading in the partitioned parquet file you just created above. "
   ]
  },
  {
   "cell_type": "code",
   "execution_count": 32,
   "metadata": {},
   "outputs": [],
   "source": [
    "path = \"Datasets/pga_tour_part_parquet/\""
   ]
  },
  {
   "cell_type": "code",
   "execution_count": 47,
   "metadata": {},
   "outputs": [
    {
     "name": "stdout",
     "output_type": "stream",
     "text": [
      "+-----+------+\n",
      "|Value|Season|\n",
      "+-----+------+\n",
      "|   71|  2010|\n",
      "|   77|  2010|\n",
      "|   83|  2010|\n",
      "|   54|  2010|\n",
      "|  100|  2010|\n",
      "+-----+------+\n",
      "only showing top 5 rows\n",
      "\n"
     ]
    }
   ],
   "source": [
    "users1_2 = spark.read.option(\"basePath\", path).parquet(\n",
    "    path+'Season=*/')\n",
    "users1_2.show(5)"
   ]
  },
  {
   "cell_type": "markdown",
   "metadata": {},
   "source": [
    "## 9. Reading in a set of paritioned parquet files\n",
    "\n",
    "Now try only reading Seasons 2010, 2011 and 2012."
   ]
  },
  {
   "cell_type": "code",
   "execution_count": 46,
   "metadata": {},
   "outputs": [
    {
     "name": "stdout",
     "output_type": "stream",
     "text": [
      "+-----+------+\n",
      "|Value|Season|\n",
      "+-----+------+\n",
      "|   71|  2010|\n",
      "|   77|  2010|\n",
      "|   83|  2010|\n",
      "|   54|  2010|\n",
      "|  100|  2010|\n",
      "+-----+------+\n",
      "only showing top 5 rows\n",
      "\n"
     ]
    }
   ],
   "source": [
    "spark.read.option(\"basePath\", path).parquet(\n",
    "    path+'Season=2010/',\\\n",
    "    path+'Season=2011/',\\\n",
    "    path+'Season=2012/').show(5)"
   ]
  },
  {
   "cell_type": "markdown",
   "metadata": {},
   "source": [
    "## 10. Create your own dataframe\n",
    "\n",
    "Try creating your own dataframe below using PySparks *.createDataFrame* function. See if you can make one that contains 4 variables and at least 3 rows. \n",
    "\n",
    "Let's see how creative you can get on the content of the dataframe :)"
   ]
  },
  {
   "cell_type": "code",
   "execution_count": 37,
   "metadata": {},
   "outputs": [
    {
     "name": "stdout",
     "output_type": "stream",
     "text": [
      "+------+--------+---------+-------------+\n",
      "| fruit|quantity|Ying/Yang|Price/unit($)|\n",
      "+------+--------+---------+-------------+\n",
      "|  Pear|      10|     Ying|            1|\n",
      "|Orange|      36|  Neutral|            2|\n",
      "|Banana|     123|     Ying|            3|\n",
      "|  Kiwi|      48|     Yang|            4|\n",
      "+------+--------+---------+-------------+\n",
      "\n"
     ]
    }
   ],
   "source": [
    "values = [('Pear',10, 'Ying', 1),('Orange',36, 'Neutral', 2),('Banana',123, 'Ying', 3),('Kiwi',48, 'Yang', 4)]\n",
    "df = spark.createDataFrame(values,['fruit','quantity', 'Ying/Yang', 'Price/unit($)'])\n",
    "df.show()"
   ]
  },
  {
   "cell_type": "markdown",
   "metadata": {},
   "source": [
    "## We're done! Great job!"
   ]
  }
 ],
 "metadata": {
  "kernelspec": {
   "display_name": "Python 3",
   "language": "python",
   "name": "python3"
  },
  "language_info": {
   "codemirror_mode": {
    "name": "ipython",
    "version": 3
   },
   "file_extension": ".py",
   "mimetype": "text/x-python",
   "name": "python",
   "nbconvert_exporter": "python",
   "pygments_lexer": "ipython3",
   "version": "3.7.10"
  }
 },
 "nbformat": 4,
 "nbformat_minor": 2
}
