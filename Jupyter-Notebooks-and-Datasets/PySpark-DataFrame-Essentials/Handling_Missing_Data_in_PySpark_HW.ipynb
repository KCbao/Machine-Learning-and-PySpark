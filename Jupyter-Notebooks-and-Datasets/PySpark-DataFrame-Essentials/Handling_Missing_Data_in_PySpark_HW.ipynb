{
 "cells": [
  {
   "cell_type": "markdown",
   "metadata": {},
   "source": [
    "# Handling Missing Data in PySpark HW Solutions\n",
    "\n",
    "In this HW assignment you will be strengthening your skill sets dealing with missing data.\n",
    " \n",
    "**Review:** you have 2 basic options for filling in missing data (you will personally have to make the decision for what is the right approach:\n",
    "\n",
    "1. Drop the missing data points (including the entire row)\n",
    "2. Fill them in with some other value.\n",
    "\n",
    "Let's practice some examples of each of these methods!\n",
    "\n",
    "\n",
    "#### But first!\n",
    "\n",
    "Start your Spark session"
   ]
  },
  {
   "cell_type": "code",
   "execution_count": 1,
   "metadata": {},
   "outputs": [
    {
     "name": "stdout",
     "output_type": "stream",
     "text": [
      "You are working with 1 core(s)\n"
     ]
    },
    {
     "data": {
      "text/html": [
       "\n",
       "            <div>\n",
       "                <p><b>SparkSession - in-memory</b></p>\n",
       "                \n",
       "        <div>\n",
       "            <p><b>SparkContext</b></p>\n",
       "\n",
       "            <p><a href=\"http://casiebaodembp:4041\">Spark UI</a></p>\n",
       "\n",
       "            <dl>\n",
       "              <dt>Version</dt>\n",
       "                <dd><code>v3.1.1</code></dd>\n",
       "              <dt>Master</dt>\n",
       "                <dd><code>local[*]</code></dd>\n",
       "              <dt>AppName</dt>\n",
       "                <dd><code>nulls</code></dd>\n",
       "            </dl>\n",
       "        </div>\n",
       "        \n",
       "            </div>\n",
       "        "
      ],
      "text/plain": [
       "<pyspark.sql.session.SparkSession at 0x7f9041e88fd0>"
      ]
     },
     "execution_count": 1,
     "metadata": {},
     "output_type": "execute_result"
    }
   ],
   "source": [
    "# import findspark\n",
    "# findspark.init()\n",
    "\n",
    "import pyspark # only run after findspark.init()\n",
    "from pyspark.sql import SparkSession\n",
    "# May take awhile locally\n",
    "spark = SparkSession.builder.appName(\"nulls\").getOrCreate()\n",
    "\n",
    "cores = spark._jsc.sc().getExecutorMemoryStatus().keySet().size()\n",
    "print(\"You are working with\", cores, \"core(s)\")\n",
    "spark"
   ]
  },
  {
   "cell_type": "markdown",
   "metadata": {},
   "source": [
    "## Read in the dataset for this Notebook\n",
    "\n",
    "Weather.csv attached to this lecture. "
   ]
  },
  {
   "cell_type": "code",
   "execution_count": 20,
   "metadata": {},
   "outputs": [],
   "source": [
    "# Start by reading a basic csv dataset\n",
    "# Let Spark know about the header and infer the Schema types!\n",
    "\n",
    "#Some csv data\n",
    "weather = spark.read.csv('Datasets/Weather.csv',inferSchema=True,header=True)"
   ]
  },
  {
   "cell_type": "markdown",
   "metadata": {},
   "source": [
    "## About this dataset\n",
    "\n",
    "**New York City Taxi Trip - Hourly Weather Data**\n",
    "\n",
    "Here is some detailed weather data for the New York City Taxi Trips.\n",
    "\n",
    "**Source:** https://www.kaggle.com/meinertsen/new-york-city-taxi-trip-hourly-weather-data"
   ]
  },
  {
   "cell_type": "markdown",
   "metadata": {},
   "source": [
    "### Print a view of the first several lines of the dataframe to see what our data looks like"
   ]
  },
  {
   "cell_type": "code",
   "execution_count": 21,
   "metadata": {},
   "outputs": [
    {
     "name": "stdout",
     "output_type": "stream",
     "text": [
      "10481\n"
     ]
    }
   ],
   "source": [
    "weather.toPandas().head(1)\n",
    "print(weather.count())"
   ]
  },
  {
   "cell_type": "markdown",
   "metadata": {},
   "source": [
    "### Print the schema \n",
    "\n",
    "So that we can see if we need to make any corrections to the data types."
   ]
  },
  {
   "cell_type": "code",
   "execution_count": 5,
   "metadata": {},
   "outputs": [
    {
     "name": "stdout",
     "output_type": "stream",
     "text": [
      "root\n",
      " |-- pickup_datetime: string (nullable = true)\n",
      " |-- tempm: double (nullable = true)\n",
      " |-- tempi: double (nullable = true)\n",
      " |-- dewptm: double (nullable = true)\n",
      " |-- dewpti: double (nullable = true)\n",
      " |-- hum: double (nullable = true)\n",
      " |-- wspdm: double (nullable = true)\n",
      " |-- wspdi: double (nullable = true)\n",
      " |-- wgustm: double (nullable = true)\n",
      " |-- wgusti: double (nullable = true)\n",
      " |-- wdird: integer (nullable = true)\n",
      " |-- wdire: string (nullable = true)\n",
      " |-- vism: double (nullable = true)\n",
      " |-- visi: double (nullable = true)\n",
      " |-- pressurem: double (nullable = true)\n",
      " |-- pressurei: double (nullable = true)\n",
      " |-- windchillm: double (nullable = true)\n",
      " |-- windchilli: double (nullable = true)\n",
      " |-- heatindexm: double (nullable = true)\n",
      " |-- heatindexi: double (nullable = true)\n",
      " |-- precipm: double (nullable = true)\n",
      " |-- precipi: double (nullable = true)\n",
      " |-- conds: string (nullable = true)\n",
      " |-- icon: string (nullable = true)\n",
      " |-- fog: integer (nullable = true)\n",
      " |-- rain: integer (nullable = true)\n",
      " |-- snow: integer (nullable = true)\n",
      " |-- hail: integer (nullable = true)\n",
      " |-- thunder: integer (nullable = true)\n",
      " |-- tornado: integer (nullable = true)\n",
      "\n",
      "None\n"
     ]
    }
   ],
   "source": [
    "print(weather.printSchema())"
   ]
  },
  {
   "cell_type": "code",
   "execution_count": 22,
   "metadata": {},
   "outputs": [],
   "source": [
    "df = weather"
   ]
  },
  {
   "cell_type": "markdown",
   "metadata": {},
   "source": [
    "## 1. How much missing data are we working with?\n",
    "\n",
    "Get a count and percentage of each variable in the dataset to answer this question."
   ]
  },
  {
   "cell_type": "code",
   "execution_count": 7,
   "metadata": {},
   "outputs": [
    {
     "name": "stdout",
     "output_type": "stream",
     "text": [
      "+-----------+-----------------+-------------------+\n",
      "|Column_Name|Null_Values_Count| Null_Value_Percent|\n",
      "+-----------+-----------------+-------------------+\n",
      "|      tempm|                5|0.04770537162484496|\n",
      "|      tempi|                5|0.04770537162484496|\n",
      "|     dewptm|                5|0.04770537162484496|\n",
      "|     dewpti|                5|0.04770537162484496|\n",
      "|        hum|                5|0.04770537162484496|\n",
      "|      wspdm|              737|  7.031771777502146|\n",
      "|      wspdi|              737|  7.031771777502146|\n",
      "|     wgustm|             8605|  82.10094456635817|\n",
      "|     wgusti|             8605|  82.10094456635817|\n",
      "|       vism|              245| 2.3375632096174033|\n",
      "|       visi|              245| 2.3375632096174033|\n",
      "|  pressurem|              239| 2.2803167636675887|\n",
      "|  pressurei|              239| 2.2803167636675887|\n",
      "| windchillm|             7775|  74.18185287663391|\n",
      "| windchilli|             7775|  74.18185287663391|\n",
      "| heatindexm|             9644|  92.01412079000096|\n",
      "| heatindexi|             9644|  92.01412079000096|\n",
      "|    precipm|             8775|   83.7229272016029|\n",
      "|    precipi|             8775|   83.7229272016029|\n",
      "+-----------+-----------------+-------------------+\n",
      "\n"
     ]
    }
   ],
   "source": [
    "from pyspark.sql.functions import *\n",
    "\n",
    "def null_value_calc(df):\n",
    "    null_columns_counts = []\n",
    "    numRows = df.count()\n",
    "    for k in df.columns:\n",
    "        nullRows = df.where(col(k).isNull()).count()\n",
    "        if(nullRows > 0):\n",
    "            temp = k,nullRows,(nullRows/numRows)*100\n",
    "            null_columns_counts.append(temp)\n",
    "    return(null_columns_counts)\n",
    "\n",
    "null_columns_calc_list = null_value_calc(df)\n",
    "spark.createDataFrame(null_columns_calc_list, ['Column_Name', 'Null_Values_Count','Null_Value_Percent']).show()"
   ]
  },
  {
   "cell_type": "markdown",
   "metadata": {},
   "source": [
    "## 2. How many rows contain at least one null value?\n",
    "\n",
    "We want to know, if we use the df.na option, how many rows will we loose. "
   ]
  },
  {
   "cell_type": "code",
   "execution_count": 15,
   "metadata": {},
   "outputs": [
    {
     "name": "stdout",
     "output_type": "stream",
     "text": [
      "Total Rows Dropped: 0\n",
      "Percentage of Rows Dropped 0.0\n"
     ]
    }
   ],
   "source": [
    "# Drop rows that have at least 1 NON-null values\n",
    "og_len = df.count()\n",
    "drop_len = df.na.drop(thresh=1).count()\n",
    "print(\"Total Rows Dropped:\",og_len-drop_len)\n",
    "print(\"Percentage of Rows Dropped\", (og_len-drop_len)/og_len)"
   ]
  },
  {
   "cell_type": "markdown",
   "metadata": {},
   "source": [
    "## 3. Drop the missing data\n",
    "\n",
    "Drop any row that contains missing data across the whole dataset"
   ]
  },
  {
   "cell_type": "code",
   "execution_count": 23,
   "metadata": {},
   "outputs": [
    {
     "data": {
      "text/plain": [
       "0"
      ]
     },
     "execution_count": 23,
     "metadata": {},
     "output_type": "execute_result"
    }
   ],
   "source": [
    "df.na.drop(how='any').count()"
   ]
  },
  {
   "cell_type": "markdown",
   "metadata": {},
   "source": [
    "## 4. Drop with a threshold\n",
    "\n",
    "Count how many rows would be dropped if we only dropped rows that had a least 12 NON-Null values"
   ]
  },
  {
   "cell_type": "code",
   "execution_count": 24,
   "metadata": {},
   "outputs": [
    {
     "data": {
      "text/plain": [
       "10476"
      ]
     },
     "execution_count": 24,
     "metadata": {},
     "output_type": "execute_result"
    }
   ],
   "source": [
    "df.na.drop(thresh=12).count()"
   ]
  },
  {
   "cell_type": "markdown",
   "metadata": {},
   "source": [
    "## 5. Drop rows according to specific column value\n",
    "\n",
    "Now count how many rows would be dropped if you only drop rows whose values in the tempm column are null/NaN"
   ]
  },
  {
   "cell_type": "code",
   "execution_count": 28,
   "metadata": {},
   "outputs": [
    {
     "data": {
      "text/plain": [
       "10476"
      ]
     },
     "execution_count": 28,
     "metadata": {},
     "output_type": "execute_result"
    }
   ],
   "source": [
    "df.na.drop(subset=[\"tempm\"]).count()"
   ]
  },
  {
   "cell_type": "markdown",
   "metadata": {},
   "source": [
    "## 6. Drop rows that are null accross all columns\n",
    "\n",
    "Count how many rows would be dropped if you only dropped rows where ALL the values are null"
   ]
  },
  {
   "cell_type": "code",
   "execution_count": 29,
   "metadata": {},
   "outputs": [
    {
     "data": {
      "text/plain": [
       "10481"
      ]
     },
     "execution_count": 29,
     "metadata": {},
     "output_type": "execute_result"
    }
   ],
   "source": [
    "df.na.drop(how='all').count()"
   ]
  },
  {
   "cell_type": "markdown",
   "metadata": {},
   "source": [
    "## 7. Fill in all the string columns missing values with the word \"N/A\"\n",
    "\n",
    "Make sure you don't edit the df dataframe itself. Create a copy of the df then edit that one."
   ]
  },
  {
   "cell_type": "code",
   "execution_count": 33,
   "metadata": {},
   "outputs": [
    {
     "data": {
      "text/html": [
       "<div>\n",
       "<style scoped>\n",
       "    .dataframe tbody tr th:only-of-type {\n",
       "        vertical-align: middle;\n",
       "    }\n",
       "\n",
       "    .dataframe tbody tr th {\n",
       "        vertical-align: top;\n",
       "    }\n",
       "\n",
       "    .dataframe thead th {\n",
       "        text-align: right;\n",
       "    }\n",
       "</style>\n",
       "<table border=\"1\" class=\"dataframe\">\n",
       "  <thead>\n",
       "    <tr style=\"text-align: right;\">\n",
       "      <th></th>\n",
       "      <th>pickup_datetime</th>\n",
       "      <th>tempm</th>\n",
       "      <th>tempi</th>\n",
       "      <th>dewptm</th>\n",
       "      <th>dewpti</th>\n",
       "      <th>hum</th>\n",
       "      <th>wspdm</th>\n",
       "      <th>wspdi</th>\n",
       "      <th>wgustm</th>\n",
       "      <th>wgusti</th>\n",
       "      <th>...</th>\n",
       "      <th>precipm</th>\n",
       "      <th>precipi</th>\n",
       "      <th>conds</th>\n",
       "      <th>icon</th>\n",
       "      <th>fog</th>\n",
       "      <th>rain</th>\n",
       "      <th>snow</th>\n",
       "      <th>hail</th>\n",
       "      <th>thunder</th>\n",
       "      <th>tornado</th>\n",
       "    </tr>\n",
       "  </thead>\n",
       "  <tbody>\n",
       "    <tr>\n",
       "      <th>0</th>\n",
       "      <td>2015-12-31 00:15:00</td>\n",
       "      <td>7.8</td>\n",
       "      <td>46.0</td>\n",
       "      <td>6.1</td>\n",
       "      <td>43.0</td>\n",
       "      <td>89.0</td>\n",
       "      <td>7.4</td>\n",
       "      <td>4.6</td>\n",
       "      <td>NaN</td>\n",
       "      <td>NaN</td>\n",
       "      <td>...</td>\n",
       "      <td>0.5</td>\n",
       "      <td>0.02</td>\n",
       "      <td>Light Rain</td>\n",
       "      <td>rain</td>\n",
       "      <td>0</td>\n",
       "      <td>1</td>\n",
       "      <td>0</td>\n",
       "      <td>0</td>\n",
       "      <td>0</td>\n",
       "      <td>0</td>\n",
       "    </tr>\n",
       "    <tr>\n",
       "      <th>1</th>\n",
       "      <td>2015-12-31 00:42:00</td>\n",
       "      <td>7.8</td>\n",
       "      <td>46.0</td>\n",
       "      <td>6.1</td>\n",
       "      <td>43.0</td>\n",
       "      <td>89.0</td>\n",
       "      <td>7.4</td>\n",
       "      <td>4.6</td>\n",
       "      <td>NaN</td>\n",
       "      <td>NaN</td>\n",
       "      <td>...</td>\n",
       "      <td>0.8</td>\n",
       "      <td>0.03</td>\n",
       "      <td>Overcast</td>\n",
       "      <td>cloudy</td>\n",
       "      <td>0</td>\n",
       "      <td>0</td>\n",
       "      <td>0</td>\n",
       "      <td>0</td>\n",
       "      <td>0</td>\n",
       "      <td>0</td>\n",
       "    </tr>\n",
       "    <tr>\n",
       "      <th>2</th>\n",
       "      <td>2015-12-31 00:51:00</td>\n",
       "      <td>7.8</td>\n",
       "      <td>46.0</td>\n",
       "      <td>6.1</td>\n",
       "      <td>43.0</td>\n",
       "      <td>89.0</td>\n",
       "      <td>5.6</td>\n",
       "      <td>3.5</td>\n",
       "      <td>NaN</td>\n",
       "      <td>NaN</td>\n",
       "      <td>...</td>\n",
       "      <td>0.8</td>\n",
       "      <td>0.03</td>\n",
       "      <td>Overcast</td>\n",
       "      <td>cloudy</td>\n",
       "      <td>0</td>\n",
       "      <td>0</td>\n",
       "      <td>0</td>\n",
       "      <td>0</td>\n",
       "      <td>0</td>\n",
       "      <td>0</td>\n",
       "    </tr>\n",
       "    <tr>\n",
       "      <th>3</th>\n",
       "      <td>2015-12-31 01:51:00</td>\n",
       "      <td>7.2</td>\n",
       "      <td>45.0</td>\n",
       "      <td>5.6</td>\n",
       "      <td>42.1</td>\n",
       "      <td>90.0</td>\n",
       "      <td>7.4</td>\n",
       "      <td>4.6</td>\n",
       "      <td>NaN</td>\n",
       "      <td>NaN</td>\n",
       "      <td>...</td>\n",
       "      <td>0.3</td>\n",
       "      <td>0.01</td>\n",
       "      <td>Overcast</td>\n",
       "      <td>cloudy</td>\n",
       "      <td>0</td>\n",
       "      <td>0</td>\n",
       "      <td>0</td>\n",
       "      <td>0</td>\n",
       "      <td>0</td>\n",
       "      <td>0</td>\n",
       "    </tr>\n",
       "    <tr>\n",
       "      <th>4</th>\n",
       "      <td>2015-12-31 02:51:00</td>\n",
       "      <td>7.2</td>\n",
       "      <td>45.0</td>\n",
       "      <td>5.6</td>\n",
       "      <td>42.1</td>\n",
       "      <td>90.0</td>\n",
       "      <td>0.0</td>\n",
       "      <td>0.0</td>\n",
       "      <td>NaN</td>\n",
       "      <td>NaN</td>\n",
       "      <td>...</td>\n",
       "      <td>NaN</td>\n",
       "      <td>NaN</td>\n",
       "      <td>Overcast</td>\n",
       "      <td>cloudy</td>\n",
       "      <td>0</td>\n",
       "      <td>0</td>\n",
       "      <td>0</td>\n",
       "      <td>0</td>\n",
       "      <td>0</td>\n",
       "      <td>0</td>\n",
       "    </tr>\n",
       "  </tbody>\n",
       "</table>\n",
       "<p>5 rows × 30 columns</p>\n",
       "</div>"
      ],
      "text/plain": [
       "       pickup_datetime  tempm  tempi  dewptm  dewpti   hum  wspdm  wspdi  \\\n",
       "0  2015-12-31 00:15:00    7.8   46.0     6.1    43.0  89.0    7.4    4.6   \n",
       "1  2015-12-31 00:42:00    7.8   46.0     6.1    43.0  89.0    7.4    4.6   \n",
       "2  2015-12-31 00:51:00    7.8   46.0     6.1    43.0  89.0    5.6    3.5   \n",
       "3  2015-12-31 01:51:00    7.2   45.0     5.6    42.1  90.0    7.4    4.6   \n",
       "4  2015-12-31 02:51:00    7.2   45.0     5.6    42.1  90.0    0.0    0.0   \n",
       "\n",
       "   wgustm  wgusti  ...  precipm precipi       conds    icon  fog  rain  snow  \\\n",
       "0     NaN     NaN  ...      0.5    0.02  Light Rain    rain    0     1     0   \n",
       "1     NaN     NaN  ...      0.8    0.03    Overcast  cloudy    0     0     0   \n",
       "2     NaN     NaN  ...      0.8    0.03    Overcast  cloudy    0     0     0   \n",
       "3     NaN     NaN  ...      0.3    0.01    Overcast  cloudy    0     0     0   \n",
       "4     NaN     NaN  ...      NaN     NaN    Overcast  cloudy    0     0     0   \n",
       "\n",
       "   hail  thunder  tornado  \n",
       "0     0        0        0  \n",
       "1     0        0        0  \n",
       "2     0        0        0  \n",
       "3     0        0        0  \n",
       "4     0        0        0  \n",
       "\n",
       "[5 rows x 30 columns]"
      ]
     },
     "execution_count": 33,
     "metadata": {},
     "output_type": "execute_result"
    }
   ],
   "source": [
    "# Fill all nulls values with one common value (character value)\n",
    "df = df.na.fill('N/A')\n",
    "df.limit(5).toPandas()"
   ]
  },
  {
   "cell_type": "markdown",
   "metadata": {},
   "source": [
    "## 8. Fill in NaN values with averages for the tempm and tempi columns\n",
    "\n",
    "*Note: you will first need to compute the averages for each column and then fill in with the corresponding value.*"
   ]
  },
  {
   "cell_type": "code",
   "execution_count": 32,
   "metadata": {},
   "outputs": [
    {
     "data": {
      "text/html": [
       "<div>\n",
       "<style scoped>\n",
       "    .dataframe tbody tr th:only-of-type {\n",
       "        vertical-align: middle;\n",
       "    }\n",
       "\n",
       "    .dataframe tbody tr th {\n",
       "        vertical-align: top;\n",
       "    }\n",
       "\n",
       "    .dataframe thead th {\n",
       "        text-align: right;\n",
       "    }\n",
       "</style>\n",
       "<table border=\"1\" class=\"dataframe\">\n",
       "  <thead>\n",
       "    <tr style=\"text-align: right;\">\n",
       "      <th></th>\n",
       "      <th>pickup_datetime</th>\n",
       "      <th>tempm</th>\n",
       "      <th>tempi</th>\n",
       "      <th>dewptm</th>\n",
       "      <th>dewpti</th>\n",
       "      <th>hum</th>\n",
       "      <th>wspdm</th>\n",
       "      <th>wspdi</th>\n",
       "      <th>wgustm</th>\n",
       "      <th>wgusti</th>\n",
       "      <th>...</th>\n",
       "      <th>precipm</th>\n",
       "      <th>precipi</th>\n",
       "      <th>conds</th>\n",
       "      <th>icon</th>\n",
       "      <th>fog</th>\n",
       "      <th>rain</th>\n",
       "      <th>snow</th>\n",
       "      <th>hail</th>\n",
       "      <th>thunder</th>\n",
       "      <th>tornado</th>\n",
       "    </tr>\n",
       "  </thead>\n",
       "  <tbody>\n",
       "    <tr>\n",
       "      <th>0</th>\n",
       "      <td>2015-12-31 00:15:00</td>\n",
       "      <td>7.8</td>\n",
       "      <td>46.0</td>\n",
       "      <td>6.1</td>\n",
       "      <td>43.0</td>\n",
       "      <td>89.0</td>\n",
       "      <td>7.4</td>\n",
       "      <td>4.6</td>\n",
       "      <td>NaN</td>\n",
       "      <td>NaN</td>\n",
       "      <td>...</td>\n",
       "      <td>0.5</td>\n",
       "      <td>0.02</td>\n",
       "      <td>Light Rain</td>\n",
       "      <td>rain</td>\n",
       "      <td>0</td>\n",
       "      <td>1</td>\n",
       "      <td>0</td>\n",
       "      <td>0</td>\n",
       "      <td>0</td>\n",
       "      <td>0</td>\n",
       "    </tr>\n",
       "    <tr>\n",
       "      <th>1</th>\n",
       "      <td>2015-12-31 00:42:00</td>\n",
       "      <td>7.8</td>\n",
       "      <td>46.0</td>\n",
       "      <td>6.1</td>\n",
       "      <td>43.0</td>\n",
       "      <td>89.0</td>\n",
       "      <td>7.4</td>\n",
       "      <td>4.6</td>\n",
       "      <td>NaN</td>\n",
       "      <td>NaN</td>\n",
       "      <td>...</td>\n",
       "      <td>0.8</td>\n",
       "      <td>0.03</td>\n",
       "      <td>Overcast</td>\n",
       "      <td>cloudy</td>\n",
       "      <td>0</td>\n",
       "      <td>0</td>\n",
       "      <td>0</td>\n",
       "      <td>0</td>\n",
       "      <td>0</td>\n",
       "      <td>0</td>\n",
       "    </tr>\n",
       "    <tr>\n",
       "      <th>2</th>\n",
       "      <td>2015-12-31 00:51:00</td>\n",
       "      <td>7.8</td>\n",
       "      <td>46.0</td>\n",
       "      <td>6.1</td>\n",
       "      <td>43.0</td>\n",
       "      <td>89.0</td>\n",
       "      <td>5.6</td>\n",
       "      <td>3.5</td>\n",
       "      <td>NaN</td>\n",
       "      <td>NaN</td>\n",
       "      <td>...</td>\n",
       "      <td>0.8</td>\n",
       "      <td>0.03</td>\n",
       "      <td>Overcast</td>\n",
       "      <td>cloudy</td>\n",
       "      <td>0</td>\n",
       "      <td>0</td>\n",
       "      <td>0</td>\n",
       "      <td>0</td>\n",
       "      <td>0</td>\n",
       "      <td>0</td>\n",
       "    </tr>\n",
       "    <tr>\n",
       "      <th>3</th>\n",
       "      <td>2015-12-31 01:51:00</td>\n",
       "      <td>7.2</td>\n",
       "      <td>45.0</td>\n",
       "      <td>5.6</td>\n",
       "      <td>42.1</td>\n",
       "      <td>90.0</td>\n",
       "      <td>7.4</td>\n",
       "      <td>4.6</td>\n",
       "      <td>NaN</td>\n",
       "      <td>NaN</td>\n",
       "      <td>...</td>\n",
       "      <td>0.3</td>\n",
       "      <td>0.01</td>\n",
       "      <td>Overcast</td>\n",
       "      <td>cloudy</td>\n",
       "      <td>0</td>\n",
       "      <td>0</td>\n",
       "      <td>0</td>\n",
       "      <td>0</td>\n",
       "      <td>0</td>\n",
       "      <td>0</td>\n",
       "    </tr>\n",
       "    <tr>\n",
       "      <th>4</th>\n",
       "      <td>2015-12-31 02:51:00</td>\n",
       "      <td>7.2</td>\n",
       "      <td>45.0</td>\n",
       "      <td>5.6</td>\n",
       "      <td>42.1</td>\n",
       "      <td>90.0</td>\n",
       "      <td>0.0</td>\n",
       "      <td>0.0</td>\n",
       "      <td>NaN</td>\n",
       "      <td>NaN</td>\n",
       "      <td>...</td>\n",
       "      <td>NaN</td>\n",
       "      <td>NaN</td>\n",
       "      <td>Overcast</td>\n",
       "      <td>cloudy</td>\n",
       "      <td>0</td>\n",
       "      <td>0</td>\n",
       "      <td>0</td>\n",
       "      <td>0</td>\n",
       "      <td>0</td>\n",
       "      <td>0</td>\n",
       "    </tr>\n",
       "  </tbody>\n",
       "</table>\n",
       "<p>5 rows × 30 columns</p>\n",
       "</div>"
      ],
      "text/plain": [
       "       pickup_datetime  tempm  tempi  dewptm  dewpti   hum  wspdm  wspdi  \\\n",
       "0  2015-12-31 00:15:00    7.8   46.0     6.1    43.0  89.0    7.4    4.6   \n",
       "1  2015-12-31 00:42:00    7.8   46.0     6.1    43.0  89.0    7.4    4.6   \n",
       "2  2015-12-31 00:51:00    7.8   46.0     6.1    43.0  89.0    5.6    3.5   \n",
       "3  2015-12-31 01:51:00    7.2   45.0     5.6    42.1  90.0    7.4    4.6   \n",
       "4  2015-12-31 02:51:00    7.2   45.0     5.6    42.1  90.0    0.0    0.0   \n",
       "\n",
       "   wgustm  wgusti  ...  precipm precipi       conds    icon  fog  rain  snow  \\\n",
       "0     NaN     NaN  ...      0.5    0.02  Light Rain    rain    0     1     0   \n",
       "1     NaN     NaN  ...      0.8    0.03    Overcast  cloudy    0     0     0   \n",
       "2     NaN     NaN  ...      0.8    0.03    Overcast  cloudy    0     0     0   \n",
       "3     NaN     NaN  ...      0.3    0.01    Overcast  cloudy    0     0     0   \n",
       "4     NaN     NaN  ...      NaN     NaN    Overcast  cloudy    0     0     0   \n",
       "\n",
       "   hail  thunder  tornado  \n",
       "0     0        0        0  \n",
       "1     0        0        0  \n",
       "2     0        0        0  \n",
       "3     0        0        0  \n",
       "4     0        0        0  \n",
       "\n",
       "[5 rows x 30 columns]"
      ]
     },
     "execution_count": 32,
     "metadata": {},
     "output_type": "execute_result"
    }
   ],
   "source": [
    "def fill_with_mean(df, include=set()): \n",
    "    stats = df.agg(*(avg(c).alias(c) for c in df.columns if c in include))\n",
    "    return df.na.fill(stats.first().asDict())\n",
    "\n",
    "updated_df = fill_with_mean(df, [\"tempm\", \"tempi\"])\n",
    "updated_df.limit(5).toPandas()"
   ]
  },
  {
   "cell_type": "markdown",
   "metadata": {},
   "source": [
    "### That's it! Great Job!"
   ]
  }
 ],
 "metadata": {
  "kernelspec": {
   "display_name": "Python 3",
   "language": "python",
   "name": "python3"
  },
  "language_info": {
   "codemirror_mode": {
    "name": "ipython",
    "version": 3
   },
   "file_extension": ".py",
   "mimetype": "text/x-python",
   "name": "python",
   "nbconvert_exporter": "python",
   "pygments_lexer": "ipython3",
   "version": "3.7.10"
  }
 },
 "nbformat": 4,
 "nbformat_minor": 2
}
